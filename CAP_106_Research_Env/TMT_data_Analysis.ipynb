{
 "cells": [
  {
   "cell_type": "code",
   "execution_count": 112,
   "id": "0e08327d",
   "metadata": {},
   "outputs": [],
   "source": [
    "import os\n",
    "import shutil\n",
    "\n",
    "import pandas as pd\n",
    "from itertools import repeat\n",
    "import numpy as np\n",
    "import matplotlib.pyplot as plt\n",
    "import warnings\n",
    "warnings.filterwarnings(\"ignore\")\n",
    "%matplotlib inline"
   ]
  },
  {
   "cell_type": "code",
   "execution_count": 116,
   "id": "d15b7c30",
   "metadata": {},
   "outputs": [],
   "source": [
    "# reading all active run TMT data and store it in a single dataframe\n",
    "df_tmt = pd.DataFrame()\n",
    "for i in range(1,16):\n",
    "    # read tmt sheets data \n",
    "    df_i_tmt = pd.read_excel(\"C:/Users/SABYA/Aritar01/CAP_106/Raw_Data/BA_106_TMT_Data.xlsx\", sheet_name=f\"Run{i}\")\n",
    "    # read active run data\n",
    "    df_i_active =  pd.read_excel(\"C:/Users/SABYA/Aritar01/CAP_106/Raw_Data/BA_106_Seperate_Active_Run_Data.xlsx\", sheet_name=f\"RUN {i}\")\n",
    "    # empty lists to capture records from tmt sheets\n",
    "    run = []\n",
    "    max_tmt = []\n",
    "    coil1 = []\n",
    "    coil2 = []\n",
    "    coil3 = []\n",
    "    coil4 = []\n",
    "    coil5 = []\n",
    "    coil6 = []\n",
    "    for i1, i2, i3, i4, i5, i6, i7, i8 in zip(df_i_tmt[\"RUN\"], df_i_tmt[\"MAX TMT\"], df_i_tmt[\"Coil 1\"], df_i_tmt[\"Coil 2\"], df_i_tmt[\"Coil 3\"], df_i_tmt[\"Coil 4\"], df_i_tmt[\"Coil 5\"], df_i_tmt[\"Coil 6\"]):\n",
    "            run.extend(repeat(i1, 24))\n",
    "            max_tmt.extend(repeat(i2, 24))\n",
    "            coil1.extend(repeat(i3, 24))\n",
    "            coil2.extend(repeat(i4, 24))\n",
    "            coil3.extend(repeat(i5, 24))\n",
    "            coil4.extend(repeat(i6, 24))\n",
    "            coil5.extend(repeat(i7, 24))\n",
    "            coil6.extend(repeat(i8, 24))\n",
    "    # store the tmt records into a dataframe\n",
    "    df1 = pd.DataFrame({\"RUN\": run, \n",
    "             \"Max TMT\": max_tmt, \n",
    "             \"Coil 1\": coil1,\n",
    "             \"Coil 2\": coil2,\n",
    "             \"Coil 3\": coil3,\n",
    "             \"Coil 4\": coil4,\n",
    "             \"Coil 5\": coil5,\n",
    "             \"Coil 6\": coil6,})\n",
    "    # store the date column from active run data\n",
    "    date = df_i_active[\"Date\"]\n",
    "    # create a date range list for the date column\n",
    "    date_df = pd.DataFrame(pd.date_range(list(df_i_active['Date'])[0], periods=df1.shape[0], freq='1h'), columns=['Date'])\n",
    "    df2 = pd.concat([date_df, df1], axis=1)\n",
    "    \n",
    "    \n",
    "    df_tmt = df_tmt.append(df2, ignore_index=True)\n",
    "# store the hourly tmt data    \n",
    "path = \"C:/Users/SABYA/Aritar01/CAP_106/Raw_Data\"  \n",
    "df_tmt.to_excel(path + \"/BA_106_TMT_hourly_data.xlsx\", index=False)"
   ]
  },
  {
   "cell_type": "code",
   "execution_count": 127,
   "id": "233ff2c0",
   "metadata": {},
   "outputs": [],
   "source": [
    "# read the hourly based tmt data\n",
    "df = pd.read_excel(path + \"/BA_106_TMT_hourly_data.xlsx\")"
   ]
  },
  {
   "cell_type": "code",
   "execution_count": 140,
   "id": "71b5968d",
   "metadata": {},
   "outputs": [],
   "source": [
    "# check for null values\n",
    "null_values_percent = {}\n",
    "for i in range(2,df.shape[1]):\n",
    "    null_values_percent[f\"{df.columns[i]}\"] = ((df[df.columns[i]]==0).sum()/df.shape[0])*10\n",
    "\n",
    "null_values_count = {}\n",
    "for i in range(2,df.shape[1]):\n",
    "    null_values_count[f\"{df.columns[i]}\"] = (df[df.columns[i]]==0).sum()"
   ]
  },
  {
   "cell_type": "code",
   "execution_count": 141,
   "id": "51d44a46",
   "metadata": {},
   "outputs": [
    {
     "data": {
      "text/plain": [
       "{'Max TMT': 0.08368200836820083,\n",
       " 'Coil 1': 0.08368200836820083,\n",
       " 'Coil 2': 0.08368200836820083,\n",
       " 'Coil 3': 0.08368200836820083,\n",
       " 'Coil 4': 0.08368200836820083,\n",
       " 'Coil 5': 0.08368200836820083,\n",
       " 'Coil 6': 0.08368200836820083}"
      ]
     },
     "execution_count": 141,
     "metadata": {},
     "output_type": "execute_result"
    }
   ],
   "source": [
    "null_values_percent"
   ]
  },
  {
   "cell_type": "code",
   "execution_count": 142,
   "id": "66339c60",
   "metadata": {},
   "outputs": [
    {
     "data": {
      "text/plain": [
       "{'Max TMT': 96,\n",
       " 'Coil 1': 96,\n",
       " 'Coil 2': 96,\n",
       " 'Coil 3': 96,\n",
       " 'Coil 4': 96,\n",
       " 'Coil 5': 96,\n",
       " 'Coil 6': 96}"
      ]
     },
     "execution_count": 142,
     "metadata": {},
     "output_type": "execute_result"
    }
   ],
   "source": [
    "null_values_count"
   ]
  },
  {
   "cell_type": "code",
   "execution_count": null,
   "id": "72eadded",
   "metadata": {},
   "outputs": [],
   "source": []
  }
 ],
 "metadata": {
  "kernelspec": {
   "display_name": "Python 3 (ipykernel)",
   "language": "python",
   "name": "python3"
  },
  "language_info": {
   "codemirror_mode": {
    "name": "ipython",
    "version": 3
   },
   "file_extension": ".py",
   "mimetype": "text/x-python",
   "name": "python",
   "nbconvert_exporter": "python",
   "pygments_lexer": "ipython3",
   "version": "3.7.13"
  }
 },
 "nbformat": 4,
 "nbformat_minor": 5
}
