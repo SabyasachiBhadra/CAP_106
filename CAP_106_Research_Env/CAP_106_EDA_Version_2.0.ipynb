{
 "cells": [
  {
   "cell_type": "code",
   "execution_count": 1,
   "id": "5e302426",
   "metadata": {},
   "outputs": [],
   "source": [
    "import os\n",
    "import shutil\n",
    "\n",
    "import pandas as pd\n",
    "import numpy as np"
   ]
  },
  {
   "cell_type": "code",
   "execution_count": 2,
   "id": "e638ec69",
   "metadata": {},
   "outputs": [
    {
     "data": {
      "text/plain": [
       "'C:\\\\Users\\\\SABYA\\\\Aritar01\\\\CAP_106\\\\CAP_106_Research_Env'"
      ]
     },
     "execution_count": 2,
     "metadata": {},
     "output_type": "execute_result"
    }
   ],
   "source": [
    "os.getcwd()"
   ]
  },
  {
   "cell_type": "code",
   "execution_count": 18,
   "id": "8c3d0cb8",
   "metadata": {},
   "outputs": [],
   "source": [
    "df = pd.read_excel(\"C:/Users/SABYA/Aritar01/CAP_106/Raw_Data/BA_106.xlsx\")"
   ]
  },
  {
   "cell_type": "code",
   "execution_count": 19,
   "id": "9459428d",
   "metadata": {},
   "outputs": [],
   "source": [
    "# separate date column\n",
    "date = df['Date']\n",
    "# drop date\n",
    "df1 = df.drop(labels=[\"Date\"], axis=1)"
   ]
  },
  {
   "cell_type": "code",
   "execution_count": 20,
   "id": "2e67b947",
   "metadata": {},
   "outputs": [],
   "source": [
    "# converting object dtype into float\n",
    "df2 = df1.astype('float')"
   ]
  },
  {
   "cell_type": "code",
   "execution_count": 22,
   "id": "2e6dc428",
   "metadata": {},
   "outputs": [],
   "source": [
    "# concat date and df2\n",
    "df3 = pd.concat([date, df2], axis=1)"
   ]
  },
  {
   "cell_type": "code",
   "execution_count": 28,
   "id": "cb9c6803",
   "metadata": {},
   "outputs": [],
   "source": [
    "# columns to keep\n",
    "ls = [\n",
    "    'Date',\n",
    " 'RUN Duration, hours',\n",
    " 'RUN No.',\n",
    " 'NpahthaFeedCoil1',\n",
    " 'NpahthaFeedCoil12',\n",
    " 'NpahthaFeedCoil3',\n",
    " 'NpahthaFeedCoil4',\n",
    " 'NpahthaFeedCoil5',\n",
    " 'NpahthaFeedCoil6',\n",
    " 'DS RateCoil1',\n",
    " 'DS RateCoil2',\n",
    " 'DS RateCoil3',\n",
    " 'DS RateCoil4',\n",
    " 'DS RateCoil5',\n",
    " 'DSRateCoil6',\n",
    " 'COT1',\n",
    " 'COT2',\n",
    " 'COT3',\n",
    " 'COT4',\n",
    " 'COT5',\n",
    " 'COT6',\n",
    " 'COT Average',\n",
    " 'CIP1',\n",
    " 'CIP2',\n",
    " 'CIP3',\n",
    " 'CIP4',\n",
    " 'CIP5',\n",
    " 'CIP6',\n",
    " 'Wall_Fuel_Gas_Flow',\n",
    " 'Ground_Fuel_Gas_Flow',\n",
    " 'O2',\n",
    " 'CrossOverTemp_Coil1',\n",
    " 'CrossOverTemp_Coil2',\n",
    " 'CrossOverTemp_Coil3',\n",
    " 'CrossOverTemp_Coil4',\n",
    " 'CrossOverTemp_Coil5',\n",
    " 'CrossOverTemp_Coil6'\n",
    "]\n",
    "df4 = df3[ls]"
   ]
  },
  {
   "cell_type": "code",
   "execution_count": 31,
   "id": "b1a5d757",
   "metadata": {},
   "outputs": [],
   "source": [
    "# calulate mean, max and average of individual colis\n",
    "total_naphtha_feed = df4[['NpahthaFeedCoil1',\n",
    " 'NpahthaFeedCoil12',\n",
    " 'NpahthaFeedCoil3',\n",
    " 'NpahthaFeedCoil4',\n",
    " 'NpahthaFeedCoil5',\n",
    " 'NpahthaFeedCoil6']].sum(axis=1)\n",
    "total_ds_rate = df4[['DS RateCoil1',\n",
    " 'DS RateCoil2',\n",
    " 'DS RateCoil3',\n",
    " 'DS RateCoil4',\n",
    " 'DS RateCoil5',\n",
    " 'DSRateCoil6']].sum(axis=1)\n",
    "avg_cot = df4[['COT1',\n",
    " 'COT2',\n",
    " 'COT3',\n",
    " 'COT4',\n",
    " 'COT5',\n",
    " 'COT6']].mean(axis=1)\n",
    "max_cip = df4[['CIP1',\n",
    " 'CIP2',\n",
    " 'CIP3',\n",
    " 'CIP4',\n",
    " 'CIP5',\n",
    " 'CIP6'\n",
    " ]].max(axis=1)\n",
    "avg_cross_over_temp = df4[['CrossOverTemp_Coil1',\n",
    " 'CrossOverTemp_Coil2',\n",
    " 'CrossOverTemp_Coil3',\n",
    " 'CrossOverTemp_Coil4',\n",
    " 'CrossOverTemp_Coil5',\n",
    " 'CrossOverTemp_Coil6']].mean(axis=1)\n",
    "\n",
    "total_ds_ratio = total_ds_rate / total_naphtha_feed"
   ]
  },
  {
   "cell_type": "code",
   "execution_count": 32,
   "id": "f51646b0",
   "metadata": {},
   "outputs": [],
   "source": [
    "# a new dataframe with the above calculated values\n",
    "df5 = pd.DataFrame({\"Total_Naphtha_Feed\": total_naphtha_feed,\n",
    "                    \"Total_DS_Rate\": total_ds_rate,\n",
    "                    \"Total_DS_Ratio\": total_ds_ratio,\n",
    "                    \"Avg_COT\": avg_cot,\n",
    "                    \"Avg_CIT\": avg_cross_over_temp,\n",
    "                    \"Max_CIP\": max_cip,\n",
    "                   })"
   ]
  },
  {
   "cell_type": "code",
   "execution_count": 34,
   "id": "a3418ded",
   "metadata": {},
   "outputs": [],
   "source": [
    "# final columns to keep from df4\n",
    "ls1 = ['Date',\n",
    "        'RUN Duration, hours',\n",
    "        'RUN No.',\n",
    "        'Wall_Fuel_Gas_Flow',\n",
    "        'Ground_Fuel_Gas_Flow',\n",
    "        'O2']\n",
    "df6 = df4[ls1]"
   ]
  },
  {
   "cell_type": "code",
   "execution_count": 36,
   "id": "bed72c1c",
   "metadata": {},
   "outputs": [],
   "source": [
    "# concat df5 and df6 \n",
    "df7 = pd.concat([df6, df5], axis=1)"
   ]
  },
  {
   "cell_type": "code",
   "execution_count": 39,
   "id": "7a244c73",
   "metadata": {},
   "outputs": [],
   "source": [
    "# Read the additional data\n",
    "df8 = pd.read_excel(\"C:/Users/SABYA/Aritar01/CAP_106/Raw_Data/Additional_BA_106.xlsx\")"
   ]
  },
  {
   "cell_type": "code",
   "execution_count": 46,
   "id": "903d79e0",
   "metadata": {},
   "outputs": [],
   "source": [
    "# separate the date column from df8\n",
    "date1 = df8['Date']"
   ]
  },
  {
   "cell_type": "code",
   "execution_count": 47,
   "id": "efaa2c64",
   "metadata": {},
   "outputs": [],
   "source": [
    "# create a date range list for the date column\n",
    "date1_df = pd.DataFrame(pd.date_range(list(df8['Date'])[0], periods=df8.shape[0], freq='1h'), columns=['Date'])"
   ]
  },
  {
   "cell_type": "code",
   "execution_count": 48,
   "id": "7f1eb9eb",
   "metadata": {},
   "outputs": [],
   "source": [
    "# drop the date column from df8\n",
    "df9 = df8.drop(labels=['Date'], axis=1)"
   ]
  },
  {
   "cell_type": "code",
   "execution_count": 49,
   "id": "5757dde5",
   "metadata": {},
   "outputs": [],
   "source": [
    "# concat the above created date1_df with df9\n",
    "df10 = pd.concat([date1_df, df9], axis=1)"
   ]
  },
  {
   "cell_type": "code",
   "execution_count": 53,
   "id": "3cbe4059",
   "metadata": {},
   "outputs": [],
   "source": [
    "# merge df7 and df10 on date column to get the final dataframe\n",
    "df_final = pd.merge(df10, df7, on='Date').reset_index(drop=True)"
   ]
  },
  {
   "cell_type": "code",
   "execution_count": 54,
   "id": "3ac7965e",
   "metadata": {},
   "outputs": [],
   "source": [
    "# store the final dataframe\n",
    "path = \"C:/Users/SABYA/Aritar01/CAP_106/Processed_Data\"\n",
    "if os.path.isdir(path):\n",
    "    df_final.to_excel(\"cap_106_processed_data.xlsx\", index=False)"
   ]
  },
  {
   "cell_type": "code",
   "execution_count": null,
   "id": "327df662",
   "metadata": {},
   "outputs": [],
   "source": []
  }
 ],
 "metadata": {
  "kernelspec": {
   "display_name": "Python 3 (ipykernel)",
   "language": "python",
   "name": "python3"
  },
  "language_info": {
   "codemirror_mode": {
    "name": "ipython",
    "version": 3
   },
   "file_extension": ".py",
   "mimetype": "text/x-python",
   "name": "python",
   "nbconvert_exporter": "python",
   "pygments_lexer": "ipython3",
   "version": "3.7.13"
  }
 },
 "nbformat": 4,
 "nbformat_minor": 5
}
